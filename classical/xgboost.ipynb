{
 "cells": [
  {
   "cell_type": "code",
   "execution_count": null,
   "id": "597beb8f",
   "metadata": {},
   "outputs": [],
   "source": [
    "import pandas as pd"
   ]
  },
  {
   "cell_type": "code",
   "execution_count": null,
   "id": "2fdaeb9f",
   "metadata": {},
   "outputs": [],
   "source": [
    "df = pd.read_csv(\"../datasets/spaceship-titanic/train.csv\")\n",
    "df.head()"
   ]
  },
  {
   "cell_type": "code",
   "execution_count": null,
   "id": "b30b070f",
   "metadata": {},
   "outputs": [],
   "source": [
    "df.columns"
   ]
  },
  {
   "cell_type": "code",
   "execution_count": null,
   "id": "a51339ba",
   "metadata": {},
   "outputs": [],
   "source": [
    "df['Transported'].unique()"
   ]
  },
  {
   "cell_type": "code",
   "execution_count": null,
   "id": "e8942329",
   "metadata": {},
   "outputs": [],
   "source": [
    "# DONE 'PassengerId', = completely unique\n",
    "# DONE 'HomePlanet', = nominal some nan\n",
    "# 'CryoSleep', = bool some nan\n",
    "# DONE 'Cabin', = nominal, unknown if has nan\n",
    "# DONE 'Destination', = 3 nominal some nan\n",
    "# 'Age', = ratio some nan\n",
    "# 'VIP', = bool some nan\n",
    "# 'RoomService', = ratio unknown if has nan\n",
    "# 'FoodCourt', = ratio unknown if has nan\n",
    "# 'ShoppingMall', = ratio unknown if has nan\n",
    "# 'Spa', = ratio unknown if has nan\n",
    "# 'VRDeck', = ratio unknown if has nan\n",
    "# 'Name', = Nominal\n",
    "# 'Transported' = bool only"
   ]
  },
  {
   "cell_type": "markdown",
   "id": "8ef24df1",
   "metadata": {},
   "source": [
    "# DECISION TREE"
   ]
  },
  {
   "cell_type": "markdown",
   "id": "91d5406c",
   "metadata": {},
   "source": [
    "### Pre-processing"
   ]
  },
  {
   "cell_type": "code",
   "execution_count": null,
   "id": "dc469d73",
   "metadata": {},
   "outputs": [],
   "source": [
    "# drop categorical data used for naming\n",
    "df.drop(columns=['PassengerId', 'Name'], inplace=True)\n",
    "df"
   ]
  },
  {
   "cell_type": "code",
   "execution_count": null,
   "id": "70ae90f8",
   "metadata": {},
   "outputs": [],
   "source": [
    "# convert categorical variables to one hot encodings HomePlanet\n",
    "t_df = pd.get_dummies(df['HomePlanet'])\n",
    "t_df.rename(columns={\n",
    "    'Earth': 'isFromEarth',\n",
    "    'Europa': 'isFromEuropa',\n",
    "    'Mars':'isFromMars'\n",
    "}, inplace=True)\n",
    "new_df = pd.concat([df, t_df], axis=1)\n",
    "new_df.drop(columns=['HomePlanet'], inplace=True)\n",
    "new_df"
   ]
  },
  {
   "cell_type": "code",
   "execution_count": null,
   "id": "90e75d76",
   "metadata": {},
   "outputs": [],
   "source": [
    "# convert categorical variables to one hot encodings Destination\n",
    "t_df = pd.get_dummies(df['Destination'])\n",
    "\n",
    "t_df.rename(columns={\n",
    "    '55 Cancri e': 'isToDest_Cancri',\n",
    "    'PSO J318.5-22': 'isToDest_PSO',\n",
    "    'TRAPPIST-1e':'isToDest_TRAPPIST'\n",
    "}, inplace=True)\n",
    "new_df = pd.concat([new_df, t_df], axis=1)\n",
    "new_df.drop(columns=['Destination'], inplace=True)\n",
    "new_df"
   ]
  },
  {
   "cell_type": "code",
   "execution_count": null,
   "id": "b0383ec8",
   "metadata": {},
   "outputs": [],
   "source": [
    "# Separating Cabin to deck and side, ignoring cabin numbers, maybe i should split the cabin numbers into 3 equal parts in case the numbeing is based on location\n",
    "# filling empty cabin values simply with we dont know (U)\n",
    "new_df.Cabin.fillna(\"U/0/U\", inplace=True)\n",
    "\n"
   ]
  },
  {
   "cell_type": "code",
   "execution_count": null,
   "id": "10db8270",
   "metadata": {},
   "outputs": [],
   "source": [
    "new_df['Cabin Deck'] = new_df.Cabin.apply(lambda x: x.split(\"/\")[0])\n",
    "new_df['Cabin Side'] = new_df.Cabin.apply(lambda x: x.split(\"/\")[2])\n",
    "new_df.drop(columns=['Cabin'], inplace=True)\n",
    "new_df"
   ]
  },
  {
   "cell_type": "code",
   "execution_count": null,
   "id": "166f4c17",
   "metadata": {},
   "outputs": [],
   "source": [
    "new_df['Cabin Deck'].unique()"
   ]
  },
  {
   "cell_type": "code",
   "execution_count": null,
   "id": "4962852a",
   "metadata": {},
   "outputs": [],
   "source": [
    "# convert categorical variables to one hot encodings Destination\n",
    "COLUMN_NAME = \"Cabin Deck\"\n",
    "COLUMN_RENAME_SCHEME = \"isDeck_%s\"\n",
    "\n",
    "t_df = pd.get_dummies(new_df[COLUMN_NAME])\n",
    "\n",
    "# renaming scheme\n",
    "col_name = dict()\n",
    "\n",
    "for label in new_df[COLUMN_NAME].unique():\n",
    "    col_name[label] = COLUMN_RENAME_SCHEME % (label)\n",
    "\n",
    "t_df.rename(columns=col_name, inplace=True)\n",
    "new_df = pd.concat([new_df, t_df], axis=1)\n",
    "new_df.drop(columns=[COLUMN_NAME], inplace=True)\n",
    "new_df"
   ]
  },
  {
   "cell_type": "code",
   "execution_count": null,
   "id": "ff9e43d9",
   "metadata": {},
   "outputs": [],
   "source": [
    "new_df['Cabin Side'].unique()"
   ]
  },
  {
   "cell_type": "code",
   "execution_count": null,
   "id": "4222a7fb",
   "metadata": {},
   "outputs": [],
   "source": [
    "# convert categorical variables to one hot encodings Destination\n",
    "COLUMN_NAME = \"Cabin Side\"\n",
    "COLUMN_RENAME_SCHEME = \"isSide_%s\"\n",
    "\n",
    "t_df = pd.get_dummies(new_df[COLUMN_NAME])\n",
    "\n",
    "# renaming scheme\n",
    "col_name = dict()\n",
    "\n",
    "for label in new_df[COLUMN_NAME].unique():\n",
    "    col_name[label] = COLUMN_RENAME_SCHEME % (label)\n",
    "\n",
    "t_df.rename(columns=col_name, inplace=True)\n",
    "new_df = pd.concat([new_df, t_df], axis=1)\n",
    "new_df.drop(columns=[COLUMN_NAME], inplace=True)\n",
    "new_df"
   ]
  },
  {
   "cell_type": "code",
   "execution_count": null,
   "id": "c1a670b1",
   "metadata": {},
   "outputs": [],
   "source": [
    "# Add Unknown for VIP\n",
    "new_df[\"VIP\"].fillna(\"unknown\", inplace=True)\n",
    "\n",
    "# convert categorical variables to one hot encodings VIP\n",
    "COLUMN_NAME = \"VIP\"\n",
    "COLUMN_RENAME_SCHEME = \"isVIP_%s\"\n",
    "\n",
    "t_df = pd.get_dummies(new_df[COLUMN_NAME])\n",
    "\n",
    "# renaming scheme\n",
    "col_name = dict()\n",
    "\n",
    "for label in new_df[COLUMN_NAME].unique():\n",
    "    col_name[label] = COLUMN_RENAME_SCHEME % (label)\n",
    "\n",
    "t_df.rename(columns=col_name, inplace=True)\n",
    "new_df = pd.concat([new_df, t_df], axis=1)\n",
    "new_df.drop(columns=[COLUMN_NAME], inplace=True)\n",
    "new_df"
   ]
  },
  {
   "cell_type": "code",
   "execution_count": null,
   "id": "c334ef68",
   "metadata": {},
   "outputs": [],
   "source": [
    "# Add Unknown for Cryosleep\n",
    "new_df[\"CryoSleep\"].fillna(\"unknown\", inplace=True)\n",
    "\n",
    "# convert categorical variables to one hot encodings VIP\n",
    "COLUMN_NAME = \"CryoSleep\"\n",
    "COLUMN_RENAME_SCHEME = \"isCryoSleep_%s\"\n",
    "\n",
    "t_df = pd.get_dummies(new_df[COLUMN_NAME])\n",
    "\n",
    "# renaming scheme\n",
    "col_name = dict()\n",
    "\n",
    "for label in new_df[COLUMN_NAME].unique():\n",
    "    col_name[label] = COLUMN_RENAME_SCHEME % (label)\n",
    "\n",
    "t_df.rename(columns=col_name, inplace=True)\n",
    "new_df = pd.concat([new_df, t_df], axis=1)\n",
    "new_df.drop(columns=[COLUMN_NAME], inplace=True)\n",
    "new_df"
   ]
  },
  {
   "cell_type": "code",
   "execution_count": null,
   "id": "67ac1824",
   "metadata": {},
   "outputs": [],
   "source": [
    "# adding average for all \"spending\" columns\n",
    "for col in [\"Age\", \"RoomService\",\"FoodCourt\",\"ShoppingMall\",\"Spa\",\"VRDeck\"]:\n",
    "    new_df[\"isUnknown%s\" % col] = new_df[col].apply(lambda x: pd.isna(x))\n",
    "\n",
    "    new_df[col].fillna(new_df[col].mean(), inplace=True)\n",
    "\n",
    "    new_df[col] = new_df[col].astype(float)\n"
   ]
  },
  {
   "cell_type": "code",
   "execution_count": null,
   "id": "54f52305",
   "metadata": {},
   "outputs": [],
   "source": [
    "bool_cols = new_df.select_dtypes(include='bool').columns\n",
    "new_df[bool_cols] = new_df[bool_cols].astype(int)\n",
    "new_df\n"
   ]
  },
  {
   "cell_type": "code",
   "execution_count": null,
   "id": "d7b1bdd0",
   "metadata": {},
   "outputs": [],
   "source": [
    "# Separate Transported column\n",
    "transported = new_df[\"Transported\"].copy()\n",
    "new_df.drop(columns=[\"Transported\"], inplace=True)\n",
    "transported"
   ]
  },
  {
   "cell_type": "code",
   "execution_count": null,
   "id": "36aa0e4b",
   "metadata": {},
   "outputs": [],
   "source": [
    "# COMBINED\n",
    "# 1\n",
    "df.drop(columns=['PassengerId', 'Name'], inplace=True)\n",
    "\n",
    "# 2\n",
    "t_df = pd.get_dummies(df['HomePlanet'])\n",
    "t_df.rename(columns={\n",
    "    'Earth': 'isFromEarth',\n",
    "    'Europa': 'isFromEuropa',\n",
    "    'Mars':'isFromMars'\n",
    "}, inplace=True)\n",
    "new_df = pd.concat([df, t_df], axis=1)\n",
    "new_df.drop(columns=['HomePlanet'], inplace=True)\n",
    "\n",
    "# 3\n",
    "t_df = pd.get_dummies(df['Destination'])\n",
    "\n",
    "t_df.rename(columns={\n",
    "    '55 Cancri e': 'isToDest_Cancri',\n",
    "    'PSO J318.5-22': 'isToDest_PSO',\n",
    "    'TRAPPIST-1e':'isToDest_TRAPPIST'\n",
    "}, inplace=True)\n",
    "new_df = pd.concat([new_df, t_df], axis=1)\n",
    "new_df.drop(columns=['Destination'], inplace=True)\n",
    "\n",
    "# 4\n",
    "new_df.Cabin.fillna(\"U/0/U\", inplace=True)\n",
    "\n",
    "# 5\n",
    "new_df['Cabin Deck'] = new_df.Cabin.apply(lambda x: x.split(\"/\")[0])\n",
    "new_df['Cabin Side'] = new_df.Cabin.apply(lambda x: x.split(\"/\")[2])\n",
    "new_df.drop(columns=['Cabin'], inplace=True)\n",
    "\n",
    "# 7\n",
    "COLUMN_NAME = \"Cabin Deck\"\n",
    "COLUMN_RENAME_SCHEME = \"isDeck_%s\"\n",
    "\n",
    "t_df = pd.get_dummies(new_df[COLUMN_NAME])\n",
    "\n",
    "# renaming scheme\n",
    "col_name = dict()\n",
    "\n",
    "for label in new_df[COLUMN_NAME].unique():\n",
    "    col_name[label] = COLUMN_RENAME_SCHEME % (label)\n",
    "\n",
    "t_df.rename(columns=col_name, inplace=True)\n",
    "new_df = pd.concat([new_df, t_df], axis=1)\n",
    "new_df.drop(columns=[COLUMN_NAME], inplace=True)\n",
    "\n",
    "# 8\n",
    "new_df[\"CryoSleep\"].fillna(\"unknown\", inplace=True)\n",
    "\n",
    "# convert categorical variables to one hot encodings VIP\n",
    "COLUMN_NAME = \"CryoSleep\"\n",
    "COLUMN_RENAME_SCHEME = \"isCryoSleep_%s\"\n",
    "\n",
    "t_df = pd.get_dummies(new_df[COLUMN_NAME])\n",
    "\n",
    "# renaming scheme\n",
    "col_name = dict()\n",
    "\n",
    "for label in new_df[COLUMN_NAME].unique():\n",
    "    col_name[label] = COLUMN_RENAME_SCHEME % (label)\n",
    "\n",
    "t_df.rename(columns=col_name, inplace=True)\n",
    "new_df = pd.concat([new_df, t_df], axis=1)\n",
    "new_df.drop(columns=[COLUMN_NAME], inplace=True)\n",
    "\n",
    "# 9\n",
    "for col in [\"Age\", \"RoomService\",\"FoodCourt\",\"ShoppingMall\",\"Spa\",\"VRDeck\"]:\n",
    "    new_df[\"isUnknown%s\" % col] = new_df[col].apply(lambda x: pd.isna(x))\n",
    "\n",
    "    new_df[col].fillna(new_df[col].mean(), inplace=True)\n",
    "\n",
    "    new_df[col] = new_df[col].astype(float)\n",
    "\n",
    "# 10\n",
    "bool_cols = new_df.select_dtypes(include='bool').columns\n",
    "new_df[bool_cols] = new_df[bool_cols].astype(int)\n",
    "\n",
    "# 11\n",
    "transported = new_df[\"Transported\"].copy()\n",
    "new_df.drop(columns=[\"Transported\"], inplace=True)\n",
    "transported\n"
   ]
  },
  {
   "cell_type": "markdown",
   "id": "63b14a11",
   "metadata": {},
   "source": [
    "### Preprocessing Finished"
   ]
  },
  {
   "cell_type": "code",
   "execution_count": null,
   "id": "33bddd74",
   "metadata": {},
   "outputs": [],
   "source": [
    "new_df.dtypes"
   ]
  },
  {
   "cell_type": "code",
   "execution_count": null,
   "id": "f014a068",
   "metadata": {},
   "outputs": [],
   "source": [
    "from sklearn import tree\n",
    "X = new_df.copy()\n",
    "Y = transported\n",
    "clf = tree.DecisionTreeClassifier()\n",
    "clf = clf.fit(X, Y)"
   ]
  },
  {
   "cell_type": "code",
   "execution_count": null,
   "id": "5a40d7c7",
   "metadata": {},
   "outputs": [],
   "source": [
    "tree.plot_tree(clf)"
   ]
  },
  {
   "cell_type": "code",
   "execution_count": null,
   "id": "54a8dfb4",
   "metadata": {},
   "outputs": [],
   "source": []
  }
 ],
 "metadata": {
  "kernelspec": {
   "display_name": "venv",
   "language": "python",
   "name": "python3"
  },
  "language_info": {
   "codemirror_mode": {
    "name": "ipython",
    "version": 3
   },
   "file_extension": ".py",
   "mimetype": "text/x-python",
   "name": "python",
   "nbconvert_exporter": "python",
   "pygments_lexer": "ipython3",
   "version": "3.12.7"
  }
 },
 "nbformat": 4,
 "nbformat_minor": 5
}
